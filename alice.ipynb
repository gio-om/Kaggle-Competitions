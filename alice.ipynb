{
 "cells": [
  {
   "cell_type": "code",
   "execution_count": 131,
   "id": "b49dc9e5",
   "metadata": {},
   "outputs": [],
   "source": [
    "import numpy as np\n",
    "import pandas as pd\n",
    "import matplotlib \n",
    "import matplotlib.pyplot as plt\n",
    "import seaborn as sns\n",
    "import warnings\n",
    "from sklearn.model_selection import RandomizedSearchCV, GridSearchCV, cross_val_score\n",
    "from sklearn.feature_extraction.text import CountVectorizer\n",
    "from sklearn.linear_model import LogisticRegression, LogisticRegressionCV\n",
    "from sklearn.preprocessing import StandardScaler\n",
    "from scipy.sparse import hstack, csr_matrix\n",
    "from sklearn.metrics import roc_auc_score\n",
    "import datetime\n",
    "\n",
    "%matplotlib inline"
   ]
  },
  {
   "cell_type": "code",
   "execution_count": 3,
   "id": "dab84316",
   "metadata": {},
   "outputs": [],
   "source": [
    "def write_to_submission_file(predicted_labels, out_file, target='target', index_label='session_id'):\n",
    "    predicted_df = pd.DataFrame(predicted_labels, index=np.arange(1, predicted_labels.shape[0] + 1), columns=[target])\n",
    "    predicted_df.to_csv(out_file, index_label=index_label)"
   ]
  },
  {
   "cell_type": "markdown",
   "id": "b234cc75",
   "metadata": {},
   "source": [
    "# Task exploration"
   ]
  },
  {
   "cell_type": "markdown",
   "id": "18806275",
   "metadata": {},
   "source": [
    "Bla bla"
   ]
  },
  {
   "cell_type": "code",
   "execution_count": 22,
   "id": "e633411d",
   "metadata": {},
   "outputs": [
    {
     "data": {
      "text/html": [
       "<div>\n",
       "<style scoped>\n",
       "    .dataframe tbody tr th:only-of-type {\n",
       "        vertical-align: middle;\n",
       "    }\n",
       "\n",
       "    .dataframe tbody tr th {\n",
       "        vertical-align: top;\n",
       "    }\n",
       "\n",
       "    .dataframe thead th {\n",
       "        text-align: right;\n",
       "    }\n",
       "</style>\n",
       "<table border=\"1\" class=\"dataframe\">\n",
       "  <thead>\n",
       "    <tr style=\"text-align: right;\">\n",
       "      <th></th>\n",
       "      <th>session_id</th>\n",
       "      <th>site1</th>\n",
       "      <th>time1</th>\n",
       "      <th>site2</th>\n",
       "      <th>time2</th>\n",
       "      <th>site3</th>\n",
       "      <th>time3</th>\n",
       "      <th>site4</th>\n",
       "      <th>time4</th>\n",
       "      <th>site5</th>\n",
       "      <th>...</th>\n",
       "      <th>time6</th>\n",
       "      <th>site7</th>\n",
       "      <th>time7</th>\n",
       "      <th>site8</th>\n",
       "      <th>time8</th>\n",
       "      <th>site9</th>\n",
       "      <th>time9</th>\n",
       "      <th>site10</th>\n",
       "      <th>time10</th>\n",
       "      <th>target</th>\n",
       "    </tr>\n",
       "  </thead>\n",
       "  <tbody>\n",
       "    <tr>\n",
       "      <th>21668</th>\n",
       "      <td>21669</td>\n",
       "      <td>56</td>\n",
       "      <td>2013-01-12 08:05:57</td>\n",
       "      <td>55.0</td>\n",
       "      <td>2013-01-12 08:05:57</td>\n",
       "      <td>NaN</td>\n",
       "      <td>NaT</td>\n",
       "      <td>NaN</td>\n",
       "      <td>NaT</td>\n",
       "      <td>NaN</td>\n",
       "      <td>...</td>\n",
       "      <td>NaT</td>\n",
       "      <td>NaN</td>\n",
       "      <td>NaT</td>\n",
       "      <td>NaN</td>\n",
       "      <td>NaT</td>\n",
       "      <td>NaN</td>\n",
       "      <td>NaT</td>\n",
       "      <td>NaN</td>\n",
       "      <td>NaT</td>\n",
       "      <td>0</td>\n",
       "    </tr>\n",
       "    <tr>\n",
       "      <th>54842</th>\n",
       "      <td>54843</td>\n",
       "      <td>56</td>\n",
       "      <td>2013-01-12 08:37:23</td>\n",
       "      <td>55.0</td>\n",
       "      <td>2013-01-12 08:37:23</td>\n",
       "      <td>56.0</td>\n",
       "      <td>2013-01-12 09:07:07</td>\n",
       "      <td>55.0</td>\n",
       "      <td>2013-01-12 09:07:09</td>\n",
       "      <td>NaN</td>\n",
       "      <td>...</td>\n",
       "      <td>NaT</td>\n",
       "      <td>NaN</td>\n",
       "      <td>NaT</td>\n",
       "      <td>NaN</td>\n",
       "      <td>NaT</td>\n",
       "      <td>NaN</td>\n",
       "      <td>NaT</td>\n",
       "      <td>NaN</td>\n",
       "      <td>NaT</td>\n",
       "      <td>0</td>\n",
       "    </tr>\n",
       "    <tr>\n",
       "      <th>77291</th>\n",
       "      <td>77292</td>\n",
       "      <td>946</td>\n",
       "      <td>2013-01-12 08:50:13</td>\n",
       "      <td>946.0</td>\n",
       "      <td>2013-01-12 08:50:14</td>\n",
       "      <td>951.0</td>\n",
       "      <td>2013-01-12 08:50:15</td>\n",
       "      <td>946.0</td>\n",
       "      <td>2013-01-12 08:50:15</td>\n",
       "      <td>946.0</td>\n",
       "      <td>...</td>\n",
       "      <td>2013-01-12 08:50:16</td>\n",
       "      <td>948.0</td>\n",
       "      <td>2013-01-12 08:50:16</td>\n",
       "      <td>784.0</td>\n",
       "      <td>2013-01-12 08:50:16</td>\n",
       "      <td>949.0</td>\n",
       "      <td>2013-01-12 08:50:17</td>\n",
       "      <td>946.0</td>\n",
       "      <td>2013-01-12 08:50:17</td>\n",
       "      <td>0</td>\n",
       "    </tr>\n",
       "    <tr>\n",
       "      <th>114020</th>\n",
       "      <td>114021</td>\n",
       "      <td>945</td>\n",
       "      <td>2013-01-12 08:50:17</td>\n",
       "      <td>948.0</td>\n",
       "      <td>2013-01-12 08:50:17</td>\n",
       "      <td>949.0</td>\n",
       "      <td>2013-01-12 08:50:18</td>\n",
       "      <td>948.0</td>\n",
       "      <td>2013-01-12 08:50:18</td>\n",
       "      <td>945.0</td>\n",
       "      <td>...</td>\n",
       "      <td>2013-01-12 08:50:18</td>\n",
       "      <td>947.0</td>\n",
       "      <td>2013-01-12 08:50:19</td>\n",
       "      <td>945.0</td>\n",
       "      <td>2013-01-12 08:50:19</td>\n",
       "      <td>946.0</td>\n",
       "      <td>2013-01-12 08:50:19</td>\n",
       "      <td>946.0</td>\n",
       "      <td>2013-01-12 08:50:20</td>\n",
       "      <td>0</td>\n",
       "    </tr>\n",
       "    <tr>\n",
       "      <th>146669</th>\n",
       "      <td>146670</td>\n",
       "      <td>947</td>\n",
       "      <td>2013-01-12 08:50:20</td>\n",
       "      <td>950.0</td>\n",
       "      <td>2013-01-12 08:50:20</td>\n",
       "      <td>948.0</td>\n",
       "      <td>2013-01-12 08:50:20</td>\n",
       "      <td>947.0</td>\n",
       "      <td>2013-01-12 08:50:21</td>\n",
       "      <td>950.0</td>\n",
       "      <td>...</td>\n",
       "      <td>2013-01-12 08:50:21</td>\n",
       "      <td>946.0</td>\n",
       "      <td>2013-01-12 08:50:21</td>\n",
       "      <td>951.0</td>\n",
       "      <td>2013-01-12 08:50:22</td>\n",
       "      <td>946.0</td>\n",
       "      <td>2013-01-12 08:50:22</td>\n",
       "      <td>947.0</td>\n",
       "      <td>2013-01-12 08:50:22</td>\n",
       "      <td>0</td>\n",
       "    </tr>\n",
       "  </tbody>\n",
       "</table>\n",
       "<p>5 rows × 22 columns</p>\n",
       "</div>"
      ],
      "text/plain": [
       "        session_id  site1               time1  site2               time2  \\\n",
       "21668        21669     56 2013-01-12 08:05:57   55.0 2013-01-12 08:05:57   \n",
       "54842        54843     56 2013-01-12 08:37:23   55.0 2013-01-12 08:37:23   \n",
       "77291        77292    946 2013-01-12 08:50:13  946.0 2013-01-12 08:50:14   \n",
       "114020      114021    945 2013-01-12 08:50:17  948.0 2013-01-12 08:50:17   \n",
       "146669      146670    947 2013-01-12 08:50:20  950.0 2013-01-12 08:50:20   \n",
       "\n",
       "        site3               time3  site4               time4  site5  ...  \\\n",
       "21668     NaN                 NaT    NaN                 NaT    NaN  ...   \n",
       "54842    56.0 2013-01-12 09:07:07   55.0 2013-01-12 09:07:09    NaN  ...   \n",
       "77291   951.0 2013-01-12 08:50:15  946.0 2013-01-12 08:50:15  946.0  ...   \n",
       "114020  949.0 2013-01-12 08:50:18  948.0 2013-01-12 08:50:18  945.0  ...   \n",
       "146669  948.0 2013-01-12 08:50:20  947.0 2013-01-12 08:50:21  950.0  ...   \n",
       "\n",
       "                     time6  site7               time7  site8  \\\n",
       "21668                  NaT    NaN                 NaT    NaN   \n",
       "54842                  NaT    NaN                 NaT    NaN   \n",
       "77291  2013-01-12 08:50:16  948.0 2013-01-12 08:50:16  784.0   \n",
       "114020 2013-01-12 08:50:18  947.0 2013-01-12 08:50:19  945.0   \n",
       "146669 2013-01-12 08:50:21  946.0 2013-01-12 08:50:21  951.0   \n",
       "\n",
       "                     time8  site9               time9  site10  \\\n",
       "21668                  NaT    NaN                 NaT     NaN   \n",
       "54842                  NaT    NaN                 NaT     NaN   \n",
       "77291  2013-01-12 08:50:16  949.0 2013-01-12 08:50:17   946.0   \n",
       "114020 2013-01-12 08:50:19  946.0 2013-01-12 08:50:19   946.0   \n",
       "146669 2013-01-12 08:50:22  946.0 2013-01-12 08:50:22   947.0   \n",
       "\n",
       "                    time10  target  \n",
       "21668                  NaT       0  \n",
       "54842                  NaT       0  \n",
       "77291  2013-01-12 08:50:17       0  \n",
       "114020 2013-01-12 08:50:20       0  \n",
       "146669 2013-01-12 08:50:22       0  \n",
       "\n",
       "[5 rows x 22 columns]"
      ]
     },
     "execution_count": 22,
     "metadata": {},
     "output_type": "execute_result"
    }
   ],
   "source": [
    "train = pd.read_csv('train_sessions.csv')\n",
    "test = pd.read_csv('test_sessions.csv')\n",
    "\n",
    "times = [\"time%s\" % i for i in range(1, 11)]\n",
    "train[times] = train[times].apply(pd.to_datetime)\n",
    "test[times] = test[times].apply(pd.to_datetime)\n",
    "\n",
    "# отсортируем данные по времени\n",
    "train = train.sort_values(by=\"time1\")\n",
    "\n",
    "train.head()"
   ]
  },
  {
   "cell_type": "code",
   "execution_count": 26,
   "id": "275b37f8",
   "metadata": {},
   "outputs": [],
   "source": [
    "import pickle\n",
    "\n",
    "\n",
    "with open('site_dic.pkl', 'rb') as f:\n",
    "    site_dict = pickle.load(f)\n",
    "    \n",
    "sites_dict_df = pd.DataFrame(\n",
    "    list(site_dict.keys()), index=list(site_dict.values()), columns=[\"site\"]\n",
    ")"
   ]
  },
  {
   "cell_type": "markdown",
   "id": "240db46d",
   "metadata": {},
   "source": [
    "## Convert data to sparse matrix"
   ]
  },
  {
   "cell_type": "code",
   "execution_count": 24,
   "id": "70c37d2e",
   "metadata": {},
   "outputs": [],
   "source": [
    "sites = ['site%s' % i for i in range(1, 11)]\n",
    "train[sites].fillna(0).astype('int').to_csv('train_session_text.text', sep=' ', index=None, header=None)\n",
    "test[sites].fillna(0).astype('int').to_csv('test_session_text.text', sep=' ', index=None, header=None)"
   ]
  },
  {
   "cell_type": "code",
   "execution_count": 25,
   "id": "5e8cd7bd",
   "metadata": {},
   "outputs": [
    {
     "name": "stdout",
     "output_type": "stream",
     "text": [
      "(253561, 41592) (82797, 41592)\n",
      "CPU times: total: 2.94 s\n",
      "Wall time: 3.01 s\n"
     ]
    }
   ],
   "source": [
    "%%time \n",
    "y_train = train.target.astype('int')\n",
    "cv = CountVectorizer()\n",
    "with open('train_session_text.text') as f:\n",
    "    X_train = cv.fit_transform(f)\n",
    "with open('test_session_text.text') as f:\n",
    "    X_test = cv.transform(f)\n",
    "print(X_train.shape, X_test.shape)"
   ]
  },
  {
   "cell_type": "markdown",
   "id": "1784ad5c",
   "metadata": {},
   "source": [
    "## Baseline Logit"
   ]
  },
  {
   "cell_type": "code",
   "execution_count": null,
   "id": "1ac3a521",
   "metadata": {},
   "outputs": [],
   "source": [
    "logit = LogisticRegression(random_state=17, C=1, max_iter=1000)"
   ]
  },
  {
   "cell_type": "code",
   "execution_count": null,
   "id": "4d4d3cae",
   "metadata": {},
   "outputs": [],
   "source": [
    "%%time\n",
    "cv_scores = cross_val_score(logit, X_train, y_train, cv=5, scoring='roc_auc')"
   ]
  },
  {
   "cell_type": "code",
   "execution_count": 10,
   "id": "153d8ef2",
   "metadata": {},
   "outputs": [
    {
     "data": {
      "text/plain": [
       "0.962679927207865"
      ]
     },
     "execution_count": 10,
     "metadata": {},
     "output_type": "execute_result"
    }
   ],
   "source": [
    "cv_scores.mean()"
   ]
  },
  {
   "cell_type": "code",
   "execution_count": 11,
   "id": "d796c846",
   "metadata": {},
   "outputs": [
    {
     "name": "stdout",
     "output_type": "stream",
     "text": [
      "CPU times: total: 28.2 s\n",
      "Wall time: 7.54 s\n"
     ]
    },
    {
     "data": {
      "text/plain": [
       "LogisticRegression(C=1, max_iter=1000, random_state=17)"
      ]
     },
     "execution_count": 11,
     "metadata": {},
     "output_type": "execute_result"
    }
   ],
   "source": [
    "%%time\n",
    "logit.fit(X_train, y_train)"
   ]
  },
  {
   "cell_type": "code",
   "execution_count": 12,
   "id": "263279f8",
   "metadata": {},
   "outputs": [],
   "source": [
    "test_pred_logit1 = logit.predict_proba(X_test)[:, 1]"
   ]
  },
  {
   "cell_type": "code",
   "execution_count": 13,
   "id": "5ea3d7c7",
   "metadata": {},
   "outputs": [],
   "source": [
    "# CV = 0.962679927207865\n",
    "# ROC AUC 0.90745\n",
    "write_to_submission_file(test_pred_logit1, 'logit_subm1.txt')"
   ]
  },
  {
   "cell_type": "markdown",
   "id": "5e247a4e",
   "metadata": {},
   "source": [
    "## Function to check ROC AUC of models "
   ]
  },
  {
   "cell_type": "code",
   "execution_count": 53,
   "id": "5d9719b6",
   "metadata": {},
   "outputs": [],
   "source": [
    "def get_auc_lr_valid(X, y, C=1.0, ratio=0.9, seed=17):\n",
    "    train_len = int(ratio * X.shape[0])\n",
    "    X_train = X[:train_len, :]\n",
    "    X_valid = X[train_len:, :]\n",
    "    y_train = y[:train_len]\n",
    "    y_valid = y[train_len:]\n",
    "    \n",
    "    logit = LogisticRegression(C=C, random_state=seed, max_iter=1000)\n",
    "    logit.fit(X_train, y_train)\n",
    "    \n",
    "    valid_pred = logit.predict_proba(X_valid)[:, 1]\n",
    "    \n",
    "    return roc_auc_score(y_valid, valid_pred)"
   ]
  },
  {
   "cell_type": "code",
   "execution_count": 178,
   "id": "7dbd9f53",
   "metadata": {},
   "outputs": [],
   "source": [
    "def get_lr_prediction(X_train, y_train, X_test, C=1.0, seed=17):\n",
    "    logit = LogisticRegression(random_state=17, C=1, max_iter=1000)\n",
    "    logit.fit(X_train, y_train)\n",
    "    return(logit.predict_proba(X_test)[:, 1])"
   ]
  },
  {
   "cell_type": "markdown",
   "id": "44957dda",
   "metadata": {},
   "source": [
    "# Generate some new features"
   ]
  },
  {
   "cell_type": "markdown",
   "id": "6d3213c2",
   "metadata": {},
   "source": [
    "### Add year and month of session"
   ]
  },
  {
   "cell_type": "code",
   "execution_count": 161,
   "id": "d173f138",
   "metadata": {},
   "outputs": [],
   "source": [
    "def add_year_month_feat(df, X_sparse, scaled=True):\n",
    "    year_month_feat = pd.DataFrame(index=df.index)\n",
    "    year_month_feat['year_month'] = df['time1'].apply(lambda ts: 100 * ts.year + ts.month)\n",
    "    if scaled:\n",
    "        year_month_scaler = StandardScaler()\n",
    "        year_month_feat['year_month_scaled'] = scaler_year.fit_transform(year_month_feat)\n",
    "        return csr_matrix(hstack([X_sparse, year_month_feat['year_month_scaled'].values.reshape(-1, 1)]))\n",
    "    else:\n",
    "        return csr_matrix(hstack([X_sparse, year_month_feat['year_month'].values.reshape(-1, 1)]))"
   ]
  },
  {
   "cell_type": "code",
   "execution_count": 162,
   "id": "370c838c",
   "metadata": {},
   "outputs": [],
   "source": [
    "X_year_month_train = add_year_month_feat(train, X_train)\n",
    "X_year_month_test = add_year_month_feat(test, X_test)"
   ]
  },
  {
   "cell_type": "code",
   "execution_count": 163,
   "id": "cf9bb1ff",
   "metadata": {},
   "outputs": [
    {
     "name": "stdout",
     "output_type": "stream",
     "text": [
      "CPU times: total: 26 s\n",
      "Wall time: 7.01 s\n"
     ]
    },
    {
     "data": {
      "text/plain": [
       "0.9160670789511502"
      ]
     },
     "execution_count": 163,
     "metadata": {},
     "output_type": "execute_result"
    }
   ],
   "source": [
    "%%time \n",
    "\n",
    "get_auc_lr_valid(X_year_month_train, y_train)"
   ]
  },
  {
   "cell_type": "markdown",
   "id": "9470ec1d",
   "metadata": {},
   "source": [
    "### Add Time of Day"
   ]
  },
  {
   "cell_type": "code",
   "execution_count": 164,
   "id": "c3839637",
   "metadata": {},
   "outputs": [],
   "source": [
    "def add_day_time_feature(df, X_sparse):\n",
    "    session_hour = df['time1'].apply(lambda tt: tt.hour)\n",
    "    night = ((session_hour >= 0) & (session_hour <= 6)).astype('int').values\n",
    "    morning = ((session_hour >= 7) & (session_hour <= 11)).astype('int').values\n",
    "    day = ((session_hour >= 12) & (session_hour <= 18)).astype('int').values\n",
    "    evening = ((session_hour >= 19) & (session_hour <= 23)).astype('int').values\n",
    "    \n",
    "    return csr_matrix(hstack([X_sparse, night.reshape(-1, 1), morning.reshape(-1, 1), \\\n",
    "                              day.reshape(-1, 1), evening.reshape(-1, 1)]))"
   ]
  },
  {
   "cell_type": "code",
   "execution_count": 165,
   "id": "fb71686e",
   "metadata": {},
   "outputs": [],
   "source": [
    "X_year_day_time_train = add_day_time_feature(train, X_year_month_train)\n",
    "X_year_day_time_test = add_day_time_feature(test, X_year_month_test)"
   ]
  },
  {
   "cell_type": "code",
   "execution_count": 166,
   "id": "eaa58722",
   "metadata": {},
   "outputs": [
    {
     "name": "stdout",
     "output_type": "stream",
     "text": [
      "CPU times: total: 28.7 s\n",
      "Wall time: 7.67 s\n"
     ]
    },
    {
     "data": {
      "text/plain": [
       "0.9480375427651562"
      ]
     },
     "execution_count": 166,
     "metadata": {},
     "output_type": "execute_result"
    }
   ],
   "source": [
    "%%time \n",
    "\n",
    "get_auc_lr_valid(X_year_day_time_train, y_train)"
   ]
  },
  {
   "cell_type": "markdown",
   "id": "051bca93",
   "metadata": {},
   "source": [
    "### Add time of session"
   ]
  },
  {
   "cell_type": "code",
   "execution_count": 174,
   "id": "22a8f3ff",
   "metadata": {},
   "outputs": [],
   "source": [
    "def add_delta_time_feat(df, X_sparse, scaled=True):\n",
    "    delta_time = pd.DataFrame(index=df.index)\n",
    "    delta_time['delta_time'] = df['time10'] - df['time1']\n",
    "    delta_time['delta_time'] = delta_time['delta_time'].apply(lambda dt: dt.total_seconds())\n",
    "    delta_time = delta_time.fillna(0)\n",
    "    #print(delta_time.shape)\n",
    "    if scaled:\n",
    "        time_scaler = StandardScaler()\n",
    "        delta_time['delta_time_scaled'] = time_scaler.fit_transform(delta_time) \n",
    "        return csr_matrix(hstack([X_sparse, delta_time['delta_time_scaled'].values.reshape(-1, 1)]))\n",
    "    else:\n",
    "        return csr_matrix(hstack([X_sparse, delta_time.values.reshape(-1, 1)]))"
   ]
  },
  {
   "cell_type": "code",
   "execution_count": 175,
   "id": "a684371d",
   "metadata": {},
   "outputs": [],
   "source": [
    "X_year_day_delta_time_train = add_delta_time_feat(train, X_year_day_time_train)\n",
    "X_year_day_delta_time_test = add_delta_time_feat(test, X_year_day_time_test)"
   ]
  },
  {
   "cell_type": "code",
   "execution_count": 176,
   "id": "3a18cd2e",
   "metadata": {},
   "outputs": [
    {
     "name": "stdout",
     "output_type": "stream",
     "text": [
      "CPU times: total: 29 s\n",
      "Wall time: 7.6 s\n"
     ]
    },
    {
     "data": {
      "text/plain": [
       "0.9478370763789008"
      ]
     },
     "execution_count": 176,
     "metadata": {},
     "output_type": "execute_result"
    }
   ],
   "source": [
    "%%time \n",
    "\n",
    "get_auc_lr_valid(X_year_day_delta_time_train, y_train)"
   ]
  },
  {
   "cell_type": "code",
   "execution_count": 180,
   "id": "3488d923",
   "metadata": {},
   "outputs": [],
   "source": [
    "three_new_feat_prediction = get_lr_prediction(X_year_day_delta_time_train, y_train, X_year_day_delta_time_test)"
   ]
  },
  {
   "cell_type": "code",
   "execution_count": 182,
   "id": "38609398",
   "metadata": {},
   "outputs": [],
   "source": [
    "write_to_submission_file(three_new_feat_prediction, 'day_time_session_time_year_logit_pred.txt')"
   ]
  },
  {
   "cell_type": "code",
   "execution_count": null,
   "id": "ff22c0c6",
   "metadata": {},
   "outputs": [],
   "source": []
  },
  {
   "cell_type": "code",
   "execution_count": null,
   "id": "9d357050",
   "metadata": {},
   "outputs": [],
   "source": []
  },
  {
   "cell_type": "code",
   "execution_count": null,
   "id": "49219ee2",
   "metadata": {},
   "outputs": [],
   "source": []
  },
  {
   "cell_type": "code",
   "execution_count": null,
   "id": "6849835a",
   "metadata": {},
   "outputs": [],
   "source": []
  },
  {
   "cell_type": "code",
   "execution_count": null,
   "id": "f597e5a7",
   "metadata": {},
   "outputs": [],
   "source": []
  }
 ],
 "metadata": {
  "kernelspec": {
   "display_name": "Python 3 (ipykernel)",
   "language": "python",
   "name": "python3"
  },
  "language_info": {
   "codemirror_mode": {
    "name": "ipython",
    "version": 3
   },
   "file_extension": ".py",
   "mimetype": "text/x-python",
   "name": "python",
   "nbconvert_exporter": "python",
   "pygments_lexer": "ipython3",
   "version": "3.9.12"
  }
 },
 "nbformat": 4,
 "nbformat_minor": 5
}
